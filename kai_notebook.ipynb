{
 "cells": [
  {
   "cell_type": "markdown",
   "metadata": {},
   "source": [
    "## Data Missingness\n",
    "- Identify Missing Data: Use isnull().sum() in Pandas to check for missing values across each column. Visualize these patterns to quickly see which features have significant missingness.\n",
    "\n",
    "- Handle Missing Data:\n",
    "If missing values are minimal, consider removing those rows (dropna()).\n",
    "For substantial missingness, choose an imputation method based on the data type:\n",
    "Quantitative: Mean or median imputation.\n",
    "Categorical: Mode or the most frequent category."
   ]
  },
  {
   "cell_type": "code",
   "execution_count": 1,
   "metadata": {},
   "outputs": [],
   "source": [
    "import pandas as pd\n",
    "import numpy as np"
   ]
  },
  {
   "cell_type": "markdown",
   "metadata": {},
   "source": [
    "\n",
    "### Data Imbalance\n",
    "Assess Class Balance: If your project involves classification, inspect your target variable’s distribution with .value_counts() to identify imbalances.\n"
   ]
  },
  {
   "cell_type": "markdown",
   "metadata": {},
   "source": []
  },
  {
   "cell_type": "markdown",
   "metadata": {},
   "source": [
    "## Data Scaling Issues\n",
    "Identify Scaling Needs: Use .describe() to identify the range and spread of numerical features.\n",
    "Apply Scaling:\n",
    "For features with normal distributions, apply standardization using StandardScaler.\n",
    "For features with a wide range or skewed distribution, apply normalization using MinMaxScaler."
   ]
  },
  {
   "cell_type": "markdown",
   "metadata": {},
   "source": []
  }
 ],
 "metadata": {
  "kernelspec": {
   "display_name": "base",
   "language": "python",
   "name": "python3"
  },
  "language_info": {
   "codemirror_mode": {
    "name": "ipython",
    "version": 3
   },
   "file_extension": ".py",
   "mimetype": "text/x-python",
   "name": "python",
   "nbconvert_exporter": "python",
   "pygments_lexer": "ipython3",
   "version": "3.11.5"
  }
 },
 "nbformat": 4,
 "nbformat_minor": 2
}
